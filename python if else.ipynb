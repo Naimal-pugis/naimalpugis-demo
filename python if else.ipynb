{
 "cells": [
  {
   "cell_type": "markdown",
   "id": "c94ff95b-d521-4930-b038-0984b302be51",
   "metadata": {},
   "source": [
    "Write a Python program that takes an integer input and checks whether the number is even or odd.\n"
   ]
  },
  {
   "cell_type": "code",
   "execution_count": 16,
   "id": "33ceb0eb-3adc-4c9b-9aba-04953e440b31",
   "metadata": {},
   "outputs": [
    {
     "name": "stdout",
     "output_type": "stream",
     "text": [
      "enter number: 56\n"
     ]
    },
    {
     "name": "stdout",
     "output_type": "stream",
     "text": [
      "number is even\n"
     ]
    }
   ],
   "source": [
    "number=int(input(\"enter number:\"))\n",
    "number=int(number)\n",
    "if number % 2== 0:\n",
    "   print(\"number is even\")\n",
    "else:\n",
    "    print(\"number is odd\")\n",
    "    "
   ]
  },
  {
   "cell_type": "markdown",
   "id": "71ede870-5889-40ae-a681-778a6e892068",
   "metadata": {},
   "source": [
    "Write a Python program to input a student's marks and print \"Pass\" if the marks are 40 or above; otherwise,\n",
    "print \"Fail.\""
   ]
  },
  {
   "cell_type": "code",
   "execution_count": 18,
   "id": "7c8395ce-7d54-4f14-a05d-8aeaa281355f",
   "metadata": {},
   "outputs": [
    {
     "name": "stdout",
     "output_type": "stream",
     "text": [
      "enter number: 30\n"
     ]
    },
    {
     "name": "stdout",
     "output_type": "stream",
     "text": [
      "fail\n"
     ]
    }
   ],
   "source": [
    "marks=int(input(\"enter number:\"))\n",
    "if marks==40:\n",
    "    print(\"pass\")\n",
    "else:\n",
    "    print(\"fail\")"
   ]
  },
  {
   "cell_type": "markdown",
   "id": "69a9e42f-93b6-43f4-ab3a-72c31fcdb9f8",
   "metadata": {},
   "source": [
    "Write a program that takes an integer as input and determines if it is posi�ve, nega�ve, or zero."
   ]
  },
  {
   "cell_type": "code",
   "execution_count": 43,
   "id": "d79f7af9-2b45-4ed0-b620-2f43e6401bc4",
   "metadata": {},
   "outputs": [
    {
     "name": "stdout",
     "output_type": "stream",
     "text": [
      "enter integer: 56\n"
     ]
    },
    {
     "name": "stdout",
     "output_type": "stream",
     "text": [
      "positive\n"
     ]
    }
   ],
   "source": [
    "integer=int(input(\"enter integer:\"))\n",
    "if integer > 0:\n",
    "    print(\"positive\")\n",
    "elif integer < 0:\n",
    "    print(\"negative\")\n",
    "else:\n",
    "    print(\"zero\")"
   ]
  },
  {
   "cell_type": "markdown",
   "id": "ecb13470-7da7-4d6f-ab87-eac25b3852a5",
   "metadata": {},
   "source": [
    "Write a Python program that inputs two numbers and prints which one is greater. If they are equal, print \"Both\n",
    "are equal.\""
   ]
  },
  {
   "cell_type": "code",
   "execution_count": 39,
   "id": "821f3284-2485-4949-9ed7-5ec3bb587f71",
   "metadata": {},
   "outputs": [
    {
     "name": "stdout",
     "output_type": "stream",
     "text": [
      "enter number1: 56\n",
      "enter number2: 76\n"
     ]
    },
    {
     "name": "stdout",
     "output_type": "stream",
     "text": [
      "second number ({number2})is greater\n"
     ]
    }
   ],
   "source": [
    "number1=int(input(\"enter number1:\"))\n",
    "number2=int(input(\"enter number2:\"))\n",
    "if number1>number2:\n",
    "    print(\"first number ({number1})is greater\")\n",
    "elif number1<number2:\n",
    "     print(\"second number ({number2})is greater\")\n",
    "else: \n",
    "     print(\"both are equal\")"
   ]
  },
  {
   "cell_type": "markdown",
   "id": "d73558ca-7216-4222-a69a-aa351e129402",
   "metadata": {},
   "source": [
    "Write a program that takes a year as input and determines if it is a leap year. A year is a leap year if it is divisible\n",
    "by 4 but not divisible by 100, except if it is also divisible by 400."
   ]
  },
  {
   "cell_type": "code",
   "execution_count": 58,
   "id": "b20471f1-f7e3-4011-8286-4afa07c367fd",
   "metadata": {},
   "outputs": [
    {
     "name": "stdout",
     "output_type": "stream",
     "text": [
      "enter year: 2003\n"
     ]
    },
    {
     "name": "stdout",
     "output_type": "stream",
     "text": [
      "it is leap year\n"
     ]
    }
   ],
   "source": [
    "year=int(input(\"enter year:\"))\n",
    "if year % 4 == 0 and year %  400 == 0 or year % 100 !=0:\n",
    "  print(\"it is leap year\")\n",
    "else:\n",
    " print (\"not a leap year\")"
   ]
  },
  {
   "cell_type": "markdown",
   "id": "79986538-fdfd-4056-b4b8-6f34b4c9f6e3",
   "metadata": {},
   "source": [
    "Write a Python program that takes marks as input and prints the grade using the following condi�ons:\n",
    "o 90 and above: \"A\"\n",
    "o 80 to 89: \"B\"\n",
    "o 70 to 79: \"C\"\n",
    "o 60 to 69: \"D\"\n",
    "o Below 60: \"F\""
   ]
  },
  {
   "cell_type": "code",
   "execution_count": 69,
   "id": "e6b5f579-e07f-45ff-a8a8-4d6b9c981068",
   "metadata": {},
   "outputs": [
    {
     "name": "stdout",
     "output_type": "stream",
     "text": [
      "enter marks: 46\n"
     ]
    },
    {
     "name": "stdout",
     "output_type": "stream",
     "text": [
      "F\n"
     ]
    }
   ],
   "source": [
    "marks=int(input(\"enter marks:\"))\n",
    "if marks>=90:\n",
    "    print(\"A\")\n",
    "elif marks>=80 and marks<=89:\n",
    "    print(\"B\")\n",
    "elif marks>=70 and marks<=79:\n",
    "    print(\"C\")\n",
    "elif marks>=60 and marks<=69:\n",
    "    print(\"D\")\n",
    "elif marks < 60 :\n",
    "    print(\"F\")"
   ]
  },
  {
   "cell_type": "markdown",
   "id": "23561e9e-1135-4e5c-89fc-03f848812e12",
   "metadata": {},
   "source": [
    "Write a program that takes three side lengths of a triangle as input and checks if they form a valid triangle. A\n",
    "triangle is valid if the sum of any two sides is greater than the third side."
   ]
  },
  {
   "cell_type": "code",
   "execution_count": 75,
   "id": "2dd32de3-1195-42e1-9560-8871fe5be5b8",
   "metadata": {},
   "outputs": [
    {
     "name": "stdout",
     "output_type": "stream",
     "text": [
      "enter a: 54\n",
      "enter b: 67\n",
      "enter c: 89\n"
     ]
    },
    {
     "name": "stdout",
     "output_type": "stream",
     "text": [
      "form  valid triangle\n"
     ]
    }
   ],
   "source": [
    "a=int(input(\"enter a:\"))\n",
    "b=int(input(\"enter b:\"))\n",
    "c=int(input(\"enter c:\"))\n",
    "if a+b>c and b+c>a and c+a>b:\n",
    "    print(\"form  valid triangle\")\n",
    "else:\n",
    "    print(\"donot form valid triangle\")"
   ]
  },
  {
   "cell_type": "markdown",
   "id": "9348f152-eb63-4d19-8b63-0e7727c992e4",
   "metadata": {},
   "source": [
    "Write a Python program that asks the user for their age and na�onality. Print \"Eligible to Vote\" if the age is 18 or\n",
    "above and na�onality is \"Indian.\" Otherwise, print \"Not Eligible to Vote.\""
   ]
  },
  {
   "cell_type": "code",
   "execution_count": 25,
   "id": "66b42201-c78f-4531-bd34-0b30d98da566",
   "metadata": {},
   "outputs": [
    {
     "name": "stdout",
     "output_type": "stream",
     "text": [
      "enter age 67\n",
      "enter nationality 456\n"
     ]
    },
    {
     "name": "stdout",
     "output_type": "stream",
     "text": [
      "Not Eligible to Vote due to nationality\n"
     ]
    }
   ],
   "source": [
    "age =int(input(\"enter age\"))\n",
    "nationality=(input(\"enter nationality\"))\n",
    "if age>18:\n",
    " if nationality==\"indian\":\n",
    "    print(\"Eligible to Vote\")\n",
    " else:\n",
    "     print(\"Not Eligible to Vote due to nationality\")\n",
    "else:\n",
    "    print(\"Not Eligible to Vote\")\n",
    "\n"
   ]
  },
  {
   "cell_type": "markdown",
   "id": "5bc8853d-67d5-4107-bad1-007e5e35c731",
   "metadata": {},
   "source": [
    "Write a Python program that takes an integer as input and classifies it:\n",
    "o If divisible by 2 and 3, print \"Divisible by both 2 and 3.\"\n",
    "o If divisible by only 2, print \"Divisible by 2.\"\n",
    "o If divisible by only 3, print \"Divisible by 3.\"\n",
    "o Otherwise, print \"Not divisible by 2 or 3.\""
   ]
  },
  {
   "cell_type": "code",
   "execution_count": 30,
   "id": "6944455a-df14-4415-9728-e99c3485c226",
   "metadata": {},
   "outputs": [
    {
     "name": "stdout",
     "output_type": "stream",
     "text": [
      "enter number 56\n"
     ]
    },
    {
     "name": "stdout",
     "output_type": "stream",
     "text": [
      "Divisible by 2\n"
     ]
    }
   ],
   "source": [
    "number=int(input(\"enter number\"))\n",
    "if number%2==0 and number%3==0:\n",
    "  print(\"Divisible by both 2 and 3\")\n",
    "elif number%2==0:\n",
    "  print (\"Divisible by 2\") \n",
    "elif number%3==0:\n",
    "  print (\"Divisible by 3\") \n",
    "else:\n",
    "  print(\"Not divisible by 2 or 3\")"
   ]
  },
  {
   "cell_type": "markdown",
   "id": "c01d3c03-db7f-4a6f-b7c5-b07c80cc55ec",
   "metadata": {},
   "source": [
    "Write a Python program that takes three numbers as input and prints the largest number using nested if-else\n",
    "statements."
   ]
  },
  {
   "cell_type": "code",
   "execution_count": 56,
   "id": "b740f8c4-c4e2-4294-9c32-a7dfda329528",
   "metadata": {},
   "outputs": [
    {
     "name": "stdout",
     "output_type": "stream",
     "text": [
      "enter number 56\n",
      "enter number 88\n",
      "enter number 78\n"
     ]
    },
    {
     "name": "stdout",
     "output_type": "stream",
     "text": [
      "num3 is greater\n"
     ]
    }
   ],
   "source": [
    "num1=int(input(\"enter number\"))\n",
    "num2=int(input(\"enter number\"))\n",
    "num3=int(input(\"enter number\"))\n",
    "if num1>num2:\n",
    " if num2>num1:\n",
    "  if num3>num2:\n",
    "      print(\"num1 is greater\")\n",
    "  else:\n",
    "      print(\"num2 is greater\")\n",
    "else:\n",
    "    print(\"num3 is greater\")"
   ]
  },
  {
   "cell_type": "code",
   "execution_count": null,
   "id": "cb00df4f-1940-47c1-9ca7-85173b0fd2fd",
   "metadata": {},
   "outputs": [],
   "source": []
  }
 ],
 "metadata": {
  "kernelspec": {
   "display_name": "Python 3 (ipykernel)",
   "language": "python",
   "name": "python3"
  },
  "language_info": {
   "codemirror_mode": {
    "name": "ipython",
    "version": 3
   },
   "file_extension": ".py",
   "mimetype": "text/x-python",
   "name": "python",
   "nbconvert_exporter": "python",
   "pygments_lexer": "ipython3",
   "version": "3.12.7"
  }
 },
 "nbformat": 4,
 "nbformat_minor": 5
}
