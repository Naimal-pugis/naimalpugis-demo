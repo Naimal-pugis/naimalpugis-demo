{
  "nbformat": 4,
  "nbformat_minor": 0,
  "metadata": {
    "colab": {
      "provenance": [],
      "toc_visible": true,
      "authorship_tag": "ABX9TyP0S15POBsu6p7XPBPETOdN",
      "include_colab_link": true
    },
    "kernelspec": {
      "name": "python3",
      "display_name": "Python 3"
    },
    "language_info": {
      "name": "python"
    }
  },
  "cells": [
    {
      "cell_type": "markdown",
      "metadata": {
        "id": "view-in-github",
        "colab_type": "text"
      },
      "source": [
        "<a href=\"https://colab.research.google.com/github/Naimal-pugis/naimalpugis-demo/blob/main/naimal_function.ipynb\" target=\"_parent\"><img src=\"https://colab.research.google.com/assets/colab-badge.svg\" alt=\"Open In Colab\"/></a>"
      ]
    },
    {
      "cell_type": "markdown",
      "source": [
        "Write a func�on add_numbers(a, b) that takes two numbers as arguments and returns their sum.\n",
        "\n"
      ],
      "metadata": {
        "id": "27cQg6qPMP23"
      }
    },
    {
      "cell_type": "code",
      "source": [
        "def sum(a,b,op):\n",
        "    return(a+b)\n",
        "print(sum(5,7,'+'))\n"
      ],
      "metadata": {
        "colab": {
          "base_uri": "https://localhost:8080/"
        },
        "id": "lDZyUGV5MQz7",
        "outputId": "5b3beb6b-bf12-4079-a62e-7a95352db0d1"
      },
      "execution_count": null,
      "outputs": [
        {
          "output_type": "stream",
          "name": "stdout",
          "text": [
            "12\n"
          ]
        }
      ]
    },
    {
      "cell_type": "markdown",
      "source": [
        "Define a func�on square(x) that takes a number and returns its square.\n",
        "\n"
      ],
      "metadata": {
        "id": "BFuEQzVbNHFq"
      }
    },
    {
      "cell_type": "code",
      "source": [
        "def square(a):\n",
        " return(a*a)\n",
        "print(square(5*5))"
      ],
      "metadata": {
        "colab": {
          "base_uri": "https://localhost:8080/"
        },
        "id": "nH7rY3Q3NH5C",
        "outputId": "0c04354c-28db-419e-a4f0-48252cada252"
      },
      "execution_count": null,
      "outputs": [
        {
          "output_type": "stream",
          "name": "stdout",
          "text": [
            "625\n"
          ]
        }
      ]
    },
    {
      "cell_type": "markdown",
      "source": [
        "Write a func�on mul�ply(a, b, c) that takes three numbers and returns their product."
      ],
      "metadata": {
        "id": "nahXuIEVNaBI"
      }
    },
    {
      "cell_type": "code",
      "source": [
        "def prod(a,b,c):\n",
        " return (a*b*c)\n",
        "print(prod(6,7,4))"
      ],
      "metadata": {
        "colab": {
          "base_uri": "https://localhost:8080/"
        },
        "id": "mIyz-p1fNhQ9",
        "outputId": "c9a5a8b9-b830-4d88-f433-edf66a658ccf"
      },
      "execution_count": null,
      "outputs": [
        {
          "output_type": "stream",
          "name": "stdout",
          "text": [
            "168\n"
          ]
        }
      ]
    },
    {
      "cell_type": "markdown",
      "source": [
        "Write a func�on greet_user(name=\"Guest\") that prints \"Hello, [name]!\""
      ],
      "metadata": {
        "id": "KlCH8ordN3fJ"
      }
    },
    {
      "cell_type": "code",
      "source": [
        "def greet_user(name='guest'):\n",
        "    return (\"Hello, [naimal]!\")\n",
        "print(greet_user('name'))"
      ],
      "metadata": {
        "colab": {
          "base_uri": "https://localhost:8080/"
        },
        "id": "8BSQWQ1PN4ys",
        "outputId": "3ca56e92-e9c7-4052-8b41-73f533ada9bc"
      },
      "execution_count": null,
      "outputs": [
        {
          "output_type": "stream",
          "name": "stdout",
          "text": [
            "Hello, [naimal]!\n"
          ]
        }
      ]
    },
    {
      "cell_type": "markdown",
      "source": [
        "Create a Python program that acts as a calculator. The program should allow the user to perform\n",
        "basic arithme�c opera�ons and should include the following features:\n",
        "1. Opera�ons:\n",
        "o Addi�on (+)\n",
        "o Subtrac�on (-)\n",
        "o Mul�plica�on (*)\n",
        "o Division (/)\n",
        "o Power (Exponen�a�on ^)\n",
        "2. Func�onality:\n",
        "o Define separate func�ons for each opera�on: add, subtract, mul�ply, divide, and power.\n",
        "o Each func�on should take two numbers as input and return the result.\n",
        "o Include error handling for invalid inputs (e.g., non-numeric values, division by zero).\n",
        "o Allow the user to perform mul�ple calcula�ons in a single session using a loop.\n",
        "o Provide a menu for the user to choose the desired opera�on.\n",
        "o Add an op�on to exit the program.\n",
        "Output should look like this:"
      ],
      "metadata": {
        "id": "pmjmY3nnPDM2"
      }
    },
    {
      "cell_type": "code",
      "source": [
        "\n",
        "\n",
        "def cal():\n",
        "  print(\"Welcome to calculator program!\")\n",
        "  print(\"Please select an operator:\" , end=\"\\n\")\n",
        "  print(\"1. Addition\" ,end=\"\\n\")\n",
        "  print(\"2. Substraction\" ,end=\"\\n\")\n",
        "  print(\"3. Multiplication\",end=\"\\n\")\n",
        "  print(\"4. Division\" ,end=\"\\n\")\n",
        "  print(\"5. Power\", end=\"\\n\")\n",
        "  print(\"6. Exit\", end=\"\\n\")\n",
        "  op=int(input(\"Enter your choice\"))\n",
        "  a=int(input(\"Enter first Number\"))\n",
        "  b=int(input(\"Enter second Number\"))\n",
        "  def sum(a,b):\n",
        "      c=a+b\n",
        "      return c\n",
        "  def minus(a,b):\n",
        "      c=a-b\n",
        "      return c\n",
        "  def mul(a,b):\n",
        "    c=a*b\n",
        "    return c\n",
        "  def div(a,b):\n",
        "    if b ==0:\n",
        "      print(\"Error Division by 0\")\n",
        "    else:\n",
        "      c=a/b\n",
        "    return c\n",
        "  def pow(a,b):\n",
        "    c=a**b\n",
        "    return c\n",
        "  if op == 1:\n",
        "    result=sum(a,b)\n",
        "    print(\"The result is \", result)\n",
        "  elif op == 2:\n",
        "\n",
        "    result=minus(a,b)\n",
        "    print(\"The result is \", result)\n",
        "  elif op == 3:\n",
        "\n",
        "    result=mul(a,b)\n",
        "    print(\"The result is \", result)\n",
        "  elif op == 4:\n",
        "    div(a,b)\n",
        "  elif op == 5:\n",
        "\n",
        "    result=pow(a,b)\n",
        "    print(\"The result is \", result)\n",
        "  else:\n",
        "    print(\"Your are not Eligible\")"
      ],
      "metadata": {
        "id": "IXe877SxoO-K"
      },
      "execution_count": null,
      "outputs": []
    },
    {
      "cell_type": "markdown",
      "source": [
        "Create a Python program that calculates the grade for a subject based on the marks provided by the\n",
        "user. The grading system is as follows:\n",
        "• A: Marks above 85\n",
        "• A-: Marks above 80\n",
        "• B: Marks above 70\n",
        "• C: Marks above 60\n",
        "• D: Marks above 50\n",
        "• Fail: Marks below 50\n",
        "Requirements:\n",
        "1. Define a func�on calculate_grade(marks) that:\n",
        "o Takes the marks (out of 100) as an argument.\n",
        "o Returns the corresponding grade based on the grading system.\n",
        "2. Use the func�on to determine and display grades for mul�ple students or subjects.\n",
        "3. Handle invalid inputs (e.g., marks below 0 or above 100).\n",
        "Output should look like this:"
      ],
      "metadata": {
        "id": "XEnYqZJ7jW6V"
      }
    },
    {
      "cell_type": "code",
      "source": [
        "\n",
        "\n",
        "\n",
        "def calculate_grade(marks):\n",
        "            if marks > 85:\n",
        "                print(\"Grade A for marks :\",marks)\n",
        "            elif marks > 80:\n",
        "                print(\"Grade A- for marks:\", marks)\n",
        "            elif marks > 70 :\n",
        "                print(\"Grade B for marks :\",marks)\n",
        "            elif marks > 60:\n",
        "                print(\"Grade C for marks :\",marks)\n",
        "            elif marks > 50:\n",
        "                print(\"Grade D for marks :\",marks)\n",
        "            elif marks < 50:\n",
        "                print(\"Fail\")\n",
        "            else:\n",
        "                print(\"invalid inputs  marks below 0 or above 100\")\n",
        "num =int(input(\"Enter the total Number of Subjects\"))\n",
        "for i in range(1,num+1):\n",
        "    marks = int(input(\"Enter marks for subjects {i}\"))\n",
        "    calculate_grade(marks)"
      ],
      "metadata": {
        "colab": {
          "base_uri": "https://localhost:8080/"
        },
        "id": "WuNQ-U6LjYgD",
        "outputId": "65172e7e-597e-4af6-e579-b51775488b49"
      },
      "execution_count": null,
      "outputs": [
        {
          "output_type": "stream",
          "name": "stdout",
          "text": [
            "Enter the total Number of Subjects1\n",
            "Enter marks for subjects {i}34\n",
            "Fail\n"
          ]
        }
      ]
    },
    {
      "cell_type": "markdown",
      "source": [
        "Write a Python program that calculates the results of a student based on their marks in three\n",
        "subjects. The program should include the following func�onality:\n",
        "o Prompt the user to enter the marks for three subjects.\n",
        "o Ensure that the entered marks are valid (between 0 and 50). If the marks are outside this range,\n",
        "display an appropriate error message and prompt the user again.\n",
        "\n",
        "o Use the following grading criteria to assign grades to each subject:\n",
        " Marks > 85: Grade = A\n",
        " Marks > 80: Grade = A-\n",
        " Marks > 70: Grade = B\n",
        " Marks > 60: Grade = C\n",
        " Marks > 50: Grade = D\n",
        " Marks ≤ 50: Grade = Fail\n",
        "o Display the marks and grade for each subject.\n",
        "o Calculate and display:\n",
        " Total Marks (out of 150)\n",
        " Average Marks"
      ],
      "metadata": {
        "id": "HVlty4cQmurj"
      }
    },
    {
      "cell_type": "code",
      "source": [
        "def calculate_grade(marks):\n",
        "  if marks > 90:\n",
        "      print(\"Grade A for marks :\",marks)\n",
        "  elif marks > 80:\n",
        "      print(\"Grade A- for marks:\", marks)\n",
        "  elif marks > 70 :\n",
        "      print(\"Grade B for marks :\",marks)\n",
        "  elif marks > 60:\n",
        "      print(\"Grade C for marks :\",marks)\n",
        "  elif marks > 50:\n",
        "      print(\"Grade D for marks :\",marks)\n",
        "  elif marks < 50:\n",
        "      print(\"Fail\")\n",
        "  else:\n",
        "      print(\"invalid inputs  marks below 0 or above 100\")\n",
        "num = 3\n",
        "total=0\n",
        "for i in range(1,num+1):\n",
        "    marks = int(input(f\"Enter marks for subjects {i} between 0 - 50 : \"))\n",
        "\n",
        "    if marks > 0 and marks < 51:\n",
        "      mark=marks*2\n",
        "      calculate_grade(mark)\n",
        "      total = total + marks\n",
        "    else:\n",
        "      print(\"Invalid Marks: \")\n",
        "avg=(total/150)*100\n",
        "print(\"Average Marks: \", avg)\n",
        "\n"
      ],
      "metadata": {
        "id": "FaY-5V9qmgkq",
        "colab": {
          "base_uri": "https://localhost:8080/"
        },
        "outputId": "b4ebf2af-37c2-47b0-df5b-ad57b4d2982c"
      },
      "execution_count": null,
      "outputs": [
        {
          "output_type": "stream",
          "name": "stdout",
          "text": [
            "Enter marks for subjects 1 between 0 - 50 : 67\n",
            "Invalid Marks: \n",
            "Enter marks for subjects 2 between 0 - 50 : 97\n",
            "Invalid Marks: \n",
            "Enter marks for subjects 3 between 0 - 50 : 45\n",
            "Grade A- for marks: 90\n",
            "Average Marks:  30.0\n"
          ]
        }
      ]
    },
    {
      "cell_type": "markdown",
      "source": [
        "8- Create a program to calculate the monthly electricity bill based on usage.\n",
        "o The user enters the number of units consumed.\n",
        "Charges:\n",
        "o For the first 100 units: $0.5/unit\n",
        "o For the next 100 units: $0.75/unit\n",
        "o For usage above 200 units: $1.2/unit\n",
        "\n",
        "o Calculate the total bill amount and display it."
      ],
      "metadata": {
        "id": "N2SJrgmws5yR"
      }
    },
    {
      "cell_type": "code",
      "source": [
        "def bill():\n",
        "  a=int(input(\"Enter unit consumed:\"))\n",
        "  if a < 101:\n",
        "    result = 0.5*a\n",
        "  elif a < 201 and a > 100:\n",
        "    c= 100*0.5\n",
        "    d= a-100\n",
        "    result= c + d*0.75\n",
        "  elif a > 200:\n",
        "    c= 100*0.5\n",
        "    d= 100*0.75\n",
        "    e= a-200\n",
        "    f= e*1.2\n",
        "    result= c+d+f\n",
        "  else:\n",
        "    print(\"Sorry\")\n",
        "  return result\n",
        "\n",
        "payment= bill()\n",
        "print(\"Electricity Bill: \" , payment)\n"
      ],
      "metadata": {
        "id": "nfdIFEILsnF5",
        "colab": {
          "base_uri": "https://localhost:8080/"
        },
        "outputId": "a3734cbc-0849-4c5f-d07c-d014601a3f40"
      },
      "execution_count": null,
      "outputs": [
        {
          "output_type": "stream",
          "name": "stdout",
          "text": [
            "Enter unit consumed:34\n",
            "Electricity Bill:  17.0\n"
          ]
        }
      ]
    },
    {
      "cell_type": "markdown",
      "source": [
        "Write a program to calculate sta�s�cs for a list of numbers.\n",
        "o Ask the user to input 10 numbers.\n",
        "\n",
        "o Calculate and display:\n",
        " The smallest number.\n",
        " The largest number.\n",
        " The average of all numbers.\n",
        "o Ensure all inputs are numeric."
      ],
      "metadata": {
        "id": "KlxeKp-ou0CW"
      }
    },
    {
      "cell_type": "code",
      "source": [
        "def stat():\n",
        "  a=range(1,11)\n",
        "  large=0\n",
        "  small= 0\n",
        "  total=0\n",
        "  for i in a:\n",
        "    num=int(input(\"Enter a number:\"))\n",
        "    if large < num:\n",
        "      large=num\n",
        "    if small == 0:\n",
        "      small = num\n",
        "    if small > num:\n",
        "      small = num\n",
        "    total=total+num\n",
        "\n",
        "  return small, large, total\n",
        "small, large, total= stat()\n",
        "avg=total/10\n",
        "avg=avg*10\n",
        "\n",
        "print(\"Smallest Number is :\", small)\n",
        "print(\"Largest Number is :\", large)\n",
        "print(\"Average Number is :\", avg)"
      ],
      "metadata": {
        "id": "g6pWoN-tu1C9",
        "colab": {
          "base_uri": "https://localhost:8080/"
        },
        "outputId": "40c0da77-4713-4b99-da9b-ff012ce4a862"
      },
      "execution_count": null,
      "outputs": [
        {
          "output_type": "stream",
          "name": "stdout",
          "text": [
            "Enter a number:76\n",
            "Enter a number:78\n",
            "Enter a number:87\n",
            "Enter a number:23\n",
            "Enter a number:23\n",
            "Enter a number:87\n",
            "Enter a number:99\n",
            "Enter a number:13\n",
            "Enter a number:27\n",
            "Enter a number:98\n",
            "Smallest Number is : 13\n",
            "Largest Number is : 99\n",
            "Average Number is : 611.0\n"
          ]
        }
      ]
    },
    {
      "cell_type": "markdown",
      "source": [
        "10- Write a program to calculate the total cost of grocery items purchased.\n",
        "o Ask the user for the number of items.\n",
        "o For each item, input the name, price, and quan�ty.\n",
        "\n",
        "o Display a bill with item names, quan��es, prices, and the total cost.\n",
        "o Ensure all inputs are valid (posi�ve price and quan�ty)."
      ],
      "metadata": {
        "id": "ky-h848JyLSQ"
      }
    },
    {
      "cell_type": "code",
      "source": [
        "def grocery():\n",
        "  item=int(input(\"Enter the number of items:\"))\n",
        "  a=range(1, item+1)\n",
        "  b=0\n",
        "  c=0\n",
        "  for i in a:\n",
        "    name=input(\"Enter the name of product: \")\n",
        "    price=int(input(\"Enter the price of product: \"))\n",
        "    quan=int(input(\"Enter the Quatity of product: \"))\n",
        "    total=price*quan\n",
        "    if price and quan >0:\n",
        "      print(\"Item: \", i)\n",
        "      print(\"Name: \", name , end=\"\\n\")\n",
        "      print(\"price: \", price , end=\"\\n\")\n",
        "      print(\"Total Cost: \", total , end=\"\\n\")"
      ],
      "metadata": {
        "id": "hKDpeTwl2gl-"
      },
      "execution_count": null,
      "outputs": []
    },
    {
      "cell_type": "code",
      "source": [],
      "metadata": {
        "id": "YGkpRFPHrwY2"
      },
      "execution_count": null,
      "outputs": []
    }
  ]
}